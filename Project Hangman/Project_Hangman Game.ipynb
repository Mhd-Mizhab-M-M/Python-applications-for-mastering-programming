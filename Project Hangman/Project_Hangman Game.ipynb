{
 "cells": [
  {
   "cell_type": "markdown",
   "id": "7d5c517a-dc27-4722-8ac7-73dd499a0d2e",
   "metadata": {},
   "source": [
    "HANGMAN GAME"
   ]
  },
  {
   "cell_type": "code",
   "execution_count": 2,
   "id": "f1acf7c2-dfd5-49ce-b38d-7999f138b93b",
   "metadata": {
    "scrolled": true
   },
   "outputs": [
    {
     "name": "stdout",
     "output_type": "stream",
     "text": [
      "Welcome to Hangman, Fate lies in your action !\n",
      "-------------------\n",
      "try to guess the word in less than 10 attempts\n",
      "Guess the word: _ _ _ _ _ _ _ _ _ _ _ _ _ \n"
     ]
    },
    {
     "ename": "KeyboardInterrupt",
     "evalue": "Interrupted by user",
     "output_type": "error",
     "traceback": [
      "\u001b[1;31m---------------------------------------------------------------------------\u001b[0m",
      "\u001b[1;31mKeyboardInterrupt\u001b[0m                         Traceback (most recent call last)",
      "Cell \u001b[1;32mIn[2], line 100\u001b[0m\n\u001b[0;32m     98\u001b[0m \u001b[38;5;28mprint\u001b[39m(\u001b[38;5;124m\"\u001b[39m\u001b[38;5;124m-------------------\u001b[39m\u001b[38;5;124m\"\u001b[39m)\n\u001b[0;32m     99\u001b[0m \u001b[38;5;28mprint\u001b[39m(\u001b[38;5;124m\"\u001b[39m\u001b[38;5;124mtry to guess the word in less than 10 attempts\u001b[39m\u001b[38;5;124m\"\u001b[39m)\n\u001b[1;32m--> 100\u001b[0m hangman()\n\u001b[0;32m    101\u001b[0m \u001b[38;5;28mprint\u001b[39m()\n",
      "Cell \u001b[1;32mIn[2], line 28\u001b[0m, in \u001b[0;36mhangman\u001b[1;34m()\u001b[0m\n\u001b[0;32m     26\u001b[0m     \u001b[38;5;28;01mbreak\u001b[39;00m\n\u001b[0;32m     27\u001b[0m \u001b[38;5;28mprint\u001b[39m(\u001b[38;5;124m\"\u001b[39m\u001b[38;5;124mGuess the word:\u001b[39m\u001b[38;5;124m\"\u001b[39m , main)\n\u001b[1;32m---> 28\u001b[0m guess \u001b[38;5;241m=\u001b[39m \u001b[38;5;28minput\u001b[39m()\n\u001b[0;32m     30\u001b[0m \u001b[38;5;28;01mif\u001b[39;00m guess \u001b[38;5;129;01min\u001b[39;00m validLetters:\n\u001b[0;32m     31\u001b[0m     guessmade \u001b[38;5;241m=\u001b[39m guessmade \u001b[38;5;241m+\u001b[39m guess\n",
      "File \u001b[1;32mD:\\Anaconda\\Lib\\site-packages\\ipykernel\\kernelbase.py:1262\u001b[0m, in \u001b[0;36mKernel.raw_input\u001b[1;34m(self, prompt)\u001b[0m\n\u001b[0;32m   1260\u001b[0m     msg \u001b[38;5;241m=\u001b[39m \u001b[38;5;124m\"\u001b[39m\u001b[38;5;124mraw_input was called, but this frontend does not support input requests.\u001b[39m\u001b[38;5;124m\"\u001b[39m\n\u001b[0;32m   1261\u001b[0m     \u001b[38;5;28;01mraise\u001b[39;00m StdinNotImplementedError(msg)\n\u001b[1;32m-> 1262\u001b[0m \u001b[38;5;28;01mreturn\u001b[39;00m \u001b[38;5;28mself\u001b[39m\u001b[38;5;241m.\u001b[39m_input_request(\n\u001b[0;32m   1263\u001b[0m     \u001b[38;5;28mstr\u001b[39m(prompt),\n\u001b[0;32m   1264\u001b[0m     \u001b[38;5;28mself\u001b[39m\u001b[38;5;241m.\u001b[39m_parent_ident[\u001b[38;5;124m\"\u001b[39m\u001b[38;5;124mshell\u001b[39m\u001b[38;5;124m\"\u001b[39m],\n\u001b[0;32m   1265\u001b[0m     \u001b[38;5;28mself\u001b[39m\u001b[38;5;241m.\u001b[39mget_parent(\u001b[38;5;124m\"\u001b[39m\u001b[38;5;124mshell\u001b[39m\u001b[38;5;124m\"\u001b[39m),\n\u001b[0;32m   1266\u001b[0m     password\u001b[38;5;241m=\u001b[39m\u001b[38;5;28;01mFalse\u001b[39;00m,\n\u001b[0;32m   1267\u001b[0m )\n",
      "File \u001b[1;32mD:\\Anaconda\\Lib\\site-packages\\ipykernel\\kernelbase.py:1305\u001b[0m, in \u001b[0;36mKernel._input_request\u001b[1;34m(self, prompt, ident, parent, password)\u001b[0m\n\u001b[0;32m   1302\u001b[0m \u001b[38;5;28;01mexcept\u001b[39;00m \u001b[38;5;167;01mKeyboardInterrupt\u001b[39;00m:\n\u001b[0;32m   1303\u001b[0m     \u001b[38;5;66;03m# re-raise KeyboardInterrupt, to truncate traceback\u001b[39;00m\n\u001b[0;32m   1304\u001b[0m     msg \u001b[38;5;241m=\u001b[39m \u001b[38;5;124m\"\u001b[39m\u001b[38;5;124mInterrupted by user\u001b[39m\u001b[38;5;124m\"\u001b[39m\n\u001b[1;32m-> 1305\u001b[0m     \u001b[38;5;28;01mraise\u001b[39;00m \u001b[38;5;167;01mKeyboardInterrupt\u001b[39;00m(msg) \u001b[38;5;28;01mfrom\u001b[39;00m \u001b[38;5;28;01mNone\u001b[39;00m\n\u001b[0;32m   1306\u001b[0m \u001b[38;5;28;01mexcept\u001b[39;00m \u001b[38;5;167;01mException\u001b[39;00m:\n\u001b[0;32m   1307\u001b[0m     \u001b[38;5;28mself\u001b[39m\u001b[38;5;241m.\u001b[39mlog\u001b[38;5;241m.\u001b[39mwarning(\u001b[38;5;124m\"\u001b[39m\u001b[38;5;124mInvalid Message:\u001b[39m\u001b[38;5;124m\"\u001b[39m, exc_info\u001b[38;5;241m=\u001b[39m\u001b[38;5;28;01mTrue\u001b[39;00m)\n",
      "\u001b[1;31mKeyboardInterrupt\u001b[0m: Interrupted by user"
     ]
    }
   ],
   "source": [
    "import random\n",
    "import json\n",
    "def hangman():\n",
    "    data=json.load(open(\"data.json\"))\n",
    "    word = random.choice(list(data.keys()))\n",
    "    word=word.lower()\n",
    "    validLetters = 'abcdefghijklmnopqrstuvwxyz'\n",
    "    turns = 10\n",
    "    guessmade = ''\n",
    "\n",
    "    while len(word) > 0:\n",
    "        main = \"\"\n",
    "        missed = 0\n",
    "        count=0\n",
    "        for letter in word:\n",
    "            if letter in guessmade:\n",
    "                count+=1\n",
    "                main = main + letter + \" \"\n",
    "                if count==len(word):\n",
    "                    main=\"\".join(main.split())                            #split() method split the string by seperating the string by whitespaces\n",
    "            else:                                                         #\"\".join() method  \n",
    "                main = main + \"_\" + \" \"\n",
    "        if main == word:\n",
    "            print(main)\n",
    "            print(\"You win!\")\n",
    "            break\n",
    "        print(\"Guess the word:\" , main)\n",
    "        guess = input()\n",
    "\n",
    "        if guess in validLetters:\n",
    "            guessmade = guessmade + guess\n",
    "        else:\n",
    "            print(\"Enter a valid character\")\n",
    "            guess = input()\n",
    "\n",
    "        if guess not in word:\n",
    "            turns = turns - 1\n",
    "            if turns == 9:\n",
    "                print(\"9 turns left\")\n",
    "                print(\"  --------  \")\n",
    "            if turns == 8:\n",
    "                print(\"8 turns left\")\n",
    "                print(\"  --------  \")\n",
    "                print(\"     O      \")\n",
    "            if turns == 7:\n",
    "                print(\"7 turns left\")\n",
    "                print(\"  --------  \")\n",
    "                print(\"     O      \")\n",
    "                print(\"     |      \")\n",
    "            if turns == 6:\n",
    "                print(\"6 turns left\")\n",
    "                print(\"  --------  \")\n",
    "                print(\"     O      \")\n",
    "                print(\"     |      \")\n",
    "                print(\"    /       \")\n",
    "            if turns == 5:\n",
    "                print(\"5 turns left\")\n",
    "                print(\"  --------  \")\n",
    "                print(\"     O      \")\n",
    "                print(\"     |      \")\n",
    "                print(\"    / \\     \")\n",
    "            if turns == 4:\n",
    "                print(\"4 turns left\")\n",
    "                print(\"  --------  \")\n",
    "                print(\"   \\ O      \")\n",
    "                print(\"     |      \")\n",
    "                print(\"    / \\     \")\n",
    "            if turns == 3:\n",
    "                print(\"3 turns left\")\n",
    "                print(\"  --------  \")\n",
    "                print(\"   \\ O /    \")\n",
    "                print(\"     |      \")\n",
    "                print(\"    / \\     \")\n",
    "            if turns == 2:\n",
    "                print(\"2 turns left\")\n",
    "                print(\"  --------  \")\n",
    "                print(\"   \\ O /|   \")\n",
    "                print(\"     |      \")\n",
    "                print(\"    / \\     \")\n",
    "            if turns == 1:\n",
    "                print(\"1 turns left\")\n",
    "                print(\"Last breaths counting, Take care!\")\n",
    "                print(\"  --------  \")\n",
    "                print(\"   \\ O_|/   \")\n",
    "                print(\"     |      \")\n",
    "                print(\"    / \\     \")\n",
    "            if turns == 0:\n",
    "                print(\"You loose, The word was {0}\".format(word))\n",
    "                print(\"You let a kind man die\")\n",
    "                print(\"  --------  \")\n",
    "                print(\"     O_|    \")\n",
    "                print(\"    /|\\      \")\n",
    "                print(\"    / \\     \")\n",
    "                break\n",
    "\n",
    "\n",
    "print(\"Welcome to Hangman, Fate lies in your action !\")\n",
    "print(\"-------------------\")\n",
    "print(\"try to guess the word in less than 10 attempts\")\n",
    "hangman()\n",
    "print()\n",
    "\n"
   ]
  },
  {
   "cell_type": "code",
   "execution_count": null,
   "id": "b2abfeda-0f1b-4f08-acf7-1184e65eef84",
   "metadata": {},
   "outputs": [],
   "source": []
  }
 ],
 "metadata": {
  "kernelspec": {
   "display_name": "Python 3 (ipykernel)",
   "language": "python",
   "name": "python3"
  },
  "language_info": {
   "codemirror_mode": {
    "name": "ipython",
    "version": 3
   },
   "file_extension": ".py",
   "mimetype": "text/x-python",
   "name": "python",
   "nbconvert_exporter": "python",
   "pygments_lexer": "ipython3",
   "version": "3.11.7"
  }
 },
 "nbformat": 4,
 "nbformat_minor": 5
}
