{
 "cells": [
  {
   "cell_type": "markdown",
   "id": "9ad7cc9b-f47a-4cc8-8273-0b9930f4410a",
   "metadata": {},
   "source": [
    "TIC TAC TOE"
   ]
  },
  {
   "cell_type": "code",
   "execution_count": null,
   "id": "68e5a958-c88c-482d-892a-ff3327ce279c",
   "metadata": {},
   "outputs": [],
   "source": [
    "def boardInput(letter,position){\n",
    "    board[position]=letter\n",
    "}\n",
    "\n",
    "board = [' ' for x in range(10)]\n",
    "\n",
    "def printBoard(board){\n",
    "    print('   |   |   ')\n",
    "    print(' ' + board[1] + ' | ' + board[2] + ' | ' + board[3])\n",
    "    print('   |   |   ')\n",
    "    print('------------')\n",
    "    print('   |   |   ')\n",
    "    print(' ' + board[4] + ' | ' + board[5] + ' | ' + board[6])\n",
    "    print('   |   |   ')\n",
    "    print('------------')\n",
    "    print('   |   |   ')\n",
    "    print(' ' + board[7] + ' | ' + board[8] + ' | ' + board[9])\n",
    "    print('   |   |   ')\n",
    "}"
   ]
  }
 ],
 "metadata": {
  "kernelspec": {
   "display_name": "Python 3 (ipykernel)",
   "language": "python",
   "name": "python3"
  },
  "language_info": {
   "codemirror_mode": {
    "name": "ipython",
    "version": 3
   },
   "file_extension": ".py",
   "mimetype": "text/x-python",
   "name": "python",
   "nbconvert_exporter": "python",
   "pygments_lexer": "ipython3",
   "version": "3.11.7"
  }
 },
 "nbformat": 4,
 "nbformat_minor": 5
}
