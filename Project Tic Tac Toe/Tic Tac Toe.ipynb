{
 "cells": [
  {
   "cell_type": "markdown",
   "id": "9ad7cc9b-f47a-4cc8-8273-0b9930f4410a",
   "metadata": {},
   "source": [
    "TIC TAC TOE"
   ]
  },
  {
   "cell_type": "code",
   "execution_count": 1,
   "id": "b17a57fc-cb40-40bd-bf5c-cb94de3012da",
   "metadata": {},
   "outputs": [],
   "source": [
    "board = [' ' for x in range(10)]"
   ]
  },
  {
   "cell_type": "code",
   "execution_count": 2,
   "id": "d8d86b2c-fa74-4724-a7b5-95d42a0de816",
   "metadata": {},
   "outputs": [],
   "source": [
    "def boardInput(letter,position):\n",
    "    board[position]=letter"
   ]
  },
  {
   "cell_type": "code",
   "execution_count": 3,
   "id": "abca6d9e-4a6a-42d3-a0dc-2d8875fdc455",
   "metadata": {},
   "outputs": [],
   "source": [
    "def printBoard(board):\n",
    "    print('   |   |   ')\n",
    "    print(' ' + board[1] + ' | ' + board[2] + ' | ' + board[3])\n",
    "    print('   |   |   ')\n",
    "    print('------------')\n",
    "    print('   |   |   ')\n",
    "    print(' ' + board[4] + ' | ' + board[5] + ' | ' + board[6])\n",
    "    print('   |   |   ')\n",
    "    print('------------')\n",
    "    print('   |   |   ')\n",
    "    print(' ' + board[7] + ' | ' + board[8] + ' | ' + board[9])\n",
    "    print('   |   |   ')"
   ]
  },
  {
   "cell_type": "code",
   "execution_count": 4,
   "id": "0d77ffaa-c1f8-4c46-ae2d-65442a8f2872",
   "metadata": {},
   "outputs": [],
   "source": [
    "def isSpaceFree(position):\n",
    "    return board[position] == ' '"
   ]
  },
  {
   "cell_type": "code",
   "execution_count": 5,
   "id": "1458b13e-74c5-42ef-ba15-cdd173311b03",
   "metadata": {},
   "outputs": [],
   "source": [
    "def isBoardFull(board):\n",
    "    if board.count(' ')>1:\n",
    "        return False\n",
    "    else:\n",
    "        return True"
   ]
  },
  {
   "cell_type": "code",
   "execution_count": 6,
   "id": "4cf22318-4156-4232-ad1b-c4449efc16ab",
   "metadata": {},
   "outputs": [],
   "source": [
    "def isWinner(letter,board):\n",
    "    winning_combinations = [\n",
    "        [1, 2, 3],\n",
    "        [4, 5, 6],\n",
    "        [7, 8, 9],\n",
    "        [1, 4, 7],\n",
    "        [2, 5, 8],\n",
    "        [3, 6, 9],\n",
    "        [1, 5, 9],\n",
    "        [3, 5, 7]\n",
    "    ]\n",
    "    \n",
    "    return any(all(board[i] == letter for i in combo) for combo in winning_combinations)\n",
    "    \n",
    "    # return ((b[1] == l and b[2] == l and b[3] == l) or\n",
    "    # (b[4] == l and b[5] == l and b[6] == l) or\n",
    "    # (b[7] == l and b[8] == l and b[9] == l) or\n",
    "    # (b[1] == l and b[4] == l and b[7] == l) or\n",
    "    # (b[2] == l and b[5] == l and b[8] == l) or\n",
    "    # (b[3] == l and b[6] == l and b[9] == l) or\n",
    "    # (b[1] == l and b[5] == l and b[9] == l) or\n",
    "    # (b[3] == l and b[5] == l and b[7] == l))"
   ]
  },
  {
   "cell_type": "code",
   "execution_count": 7,
   "id": "f4060f1d-0f0b-43a8-934f-36b343d27f21",
   "metadata": {},
   "outputs": [],
   "source": [
    "def playerMove():\n",
    "    flag = True\n",
    "    while flag :\n",
    "        pos = int(input(\"Please select a position to enter the X between 1 to 9\"))\n",
    "        try:\n",
    "            if pos>0 & pos<10:\n",
    "                if isSpaceFree(pos):\n",
    "                    flag = False\n",
    "                    boardInput('X',pos)\n",
    "                else:\n",
    "                    print('Sorry, this space is occupied')\n",
    "            else:\n",
    "                print('please type a number between 1 and 9')\n",
    "        except:\n",
    "            print('Please type a number')"
   ]
  },
  {
   "cell_type": "code",
   "execution_count": 8,
   "id": "92fee26f-420c-4868-bee5-6d207a953cd2",
   "metadata": {},
   "outputs": [],
   "source": [
    "def computerMove():\n",
    "    import random\n",
    "    possibleMoves = [x for x , letter in enumerate(board) if letter == ' ' and x != 0  ]\n",
    "    move = None\n",
    "\n",
    "    for letter in ['O','X']:\n",
    "        for i in possibleMoves:\n",
    "            boardcpy=board[:]\n",
    "            boardcpy[i]=letter\n",
    "            if isWinner(letter,boardcpy):\n",
    "                move=i\n",
    "                return move\n",
    "\n",
    "    cornerSpace = []\n",
    "    for i in possibleMoves:\n",
    "        if i in [1,3,5,7,9]:\n",
    "            cornerSpace.append(i)\n",
    "    if len(cornerSpace)>0:\n",
    "        move = random.choice(cornerSpace)\n",
    "        return move\n",
    "\n",
    "    #Middle Space\n",
    "    if 5 in possibleMoves:\n",
    "        move = 5\n",
    "        return move\n",
    "\n",
    "    #Edge Space\n",
    "    edgeSpace = []\n",
    "    for i in possibleMoves:\n",
    "        if i in [2,4,6,8]:\n",
    "            edgeSpace.append(i)\n",
    "    if len(edgeSpace)>0:\n",
    "        move = random.choice(edgeSpace)\n",
    "        return move\n",
    "\n",
    "    # Fallback: Return the first available move if no other move has been set (if move is set to 0)\n",
    "    # return possibleMoves[0] if possibleMoves else move\n",
    "# def selectRandom(list):\n",
    "#     import random\n",
    "#     ln = len(list)\n",
    "#     rn = random.randrange(0,ln)\n",
    "#     return list[rn]"
   ]
  },
  {
   "cell_type": "code",
   "execution_count": 9,
   "id": "53a4bcb4-89c8-4074-9f1f-64ba814d7863",
   "metadata": {},
   "outputs": [],
   "source": [
    "def main():\n",
    "    print(\"Welcome to the game!\")\n",
    "    printBoard(board)\n",
    "\n",
    "    while not(isBoardFull(board)):\n",
    "        if not(isWinner('O',board)):\n",
    "            playerMove()\n",
    "            printBoard(board)\n",
    "        else:\n",
    "            print(\"Sorry, You Loose !\")\n",
    "            break\n",
    "\n",
    "        if not(isWinner('X',board)):\n",
    "            move = computerMove()\n",
    "            if move != None:\n",
    "                boardInput('O',move)\n",
    "                print('computer placed an O on position' , move , ':')\n",
    "                printBoard(board)\n",
    "            else :\n",
    "                print(\"\")\n",
    "        else :\n",
    "            print(\"You Win !\")\n",
    "            break\n",
    "            \n",
    "\n",
    "    if isBoardFull(board):\n",
    "        print(\"Tie game\")"
   ]
  },
  {
   "cell_type": "code",
   "execution_count": null,
   "id": "f2f1526a-7eb1-402b-83b0-38ad931dcce7",
   "metadata": {},
   "outputs": [
    {
     "name": "stdout",
     "output_type": "stream",
     "text": [
      "--------------------\n",
      "Welcome to the game!\n",
      "   |   |   \n",
      "   |   |  \n",
      "   |   |   \n",
      "------------\n",
      "   |   |   \n",
      "   |   |  \n",
      "   |   |   \n",
      "------------\n",
      "   |   |   \n",
      "   |   |  \n",
      "   |   |   \n"
     ]
    },
    {
     "name": "stdin",
     "output_type": "stream",
     "text": [
      "Please select a position to enter the X between 1 to 9 1\n"
     ]
    },
    {
     "name": "stdout",
     "output_type": "stream",
     "text": [
      "   |   |   \n",
      " X |   |  \n",
      "   |   |   \n",
      "------------\n",
      "   |   |   \n",
      "   |   |  \n",
      "   |   |   \n",
      "------------\n",
      "   |   |   \n",
      "   |   |  \n",
      "   |   |   \n",
      "computer placed an O on position 9 :\n",
      "   |   |   \n",
      " X |   |  \n",
      "   |   |   \n",
      "------------\n",
      "   |   |   \n",
      "   |   |  \n",
      "   |   |   \n",
      "------------\n",
      "   |   |   \n",
      "   |   | O\n",
      "   |   |   \n"
     ]
    }
   ],
   "source": [
    "while True:\n",
    "    print('--------------------')\n",
    "    board = [' ' for x in range(10)]\n",
    "    main()\n",
    "    x = input(\"Do you want to play again? (y/n)\")\n",
    "    if x.lower() == 'y':\n",
    "        board = [' ' for x in range(10)]\n",
    "        print('--------------------')\n",
    "        main()\n",
    "    else:\n",
    "        break"
   ]
  },
  {
   "cell_type": "code",
   "execution_count": null,
   "id": "0459dfe0-eb28-44bb-a834-51830e522a39",
   "metadata": {},
   "outputs": [],
   "source": []
  }
 ],
 "metadata": {
  "kernelspec": {
   "display_name": "Python 3 (ipykernel)",
   "language": "python",
   "name": "python3"
  },
  "language_info": {
   "codemirror_mode": {
    "name": "ipython",
    "version": 3
   },
   "file_extension": ".py",
   "mimetype": "text/x-python",
   "name": "python",
   "nbconvert_exporter": "python",
   "pygments_lexer": "ipython3",
   "version": "3.11.7"
  }
 },
 "nbformat": 4,
 "nbformat_minor": 5
}
